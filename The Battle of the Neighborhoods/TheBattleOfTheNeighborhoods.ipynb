{
 "cells": [
  {
   "cell_type": "markdown",
   "metadata": {},
   "source": [
    "<h1>The Battle of the Neighborhoods</h1>"
   ]
  },
  {
   "cell_type": "markdown",
   "metadata": {},
   "source": [
    "<h2>Problem</h2>\n",
    "I want to open an Italian Restaurant in Mexico City and I want to know what would be a good location.\n",
    "Mexico City is one of the most populated areas in the world, and for this reason there are a lot of restaurant of many types.\n",
    "The objetive is to use clusteing to determine the area less populated of Italian Restaurant in order to start looking for a place available."
   ]
  },
  {
   "cell_type": "markdown",
   "metadata": {},
   "source": [
    "<h2>Information gathered</h2>"
   ]
  },
  {
   "cell_type": "markdown",
   "metadata": {},
   "source": [
    "I got the neigborhood dataset in csv of Mexico City with coordinates, the only problem is that the latitude and logitude are in the same column separated by comma"
   ]
  },
  {
   "cell_type": "markdown",
   "metadata": {},
   "source": [
    "I am goint to use the information of the neighborhoods in order so look in Foursquare the restaurant density and see where are less restaurant saturation for Italian Restaurant in each cluster."
   ]
  },
  {
   "cell_type": "code",
   "execution_count": 1,
   "metadata": {},
   "outputs": [
    {
     "name": "stdout",
     "output_type": "stream",
     "text": [
      "Libraries imported.\n"
     ]
    }
   ],
   "source": [
    "# Import modules\n",
    "import random # library for random number generation\n",
    "import numpy as np # library for vectorized computation\n",
    "import pandas as pd # library to process data as dataframes\n",
    "\n",
    "print('Libraries imported.')"
   ]
  },
  {
   "cell_type": "code",
   "execution_count": 3,
   "metadata": {},
   "outputs": [
    {
     "data": {
      "text/html": [
       "<div>\n",
       "<style scoped>\n",
       "    .dataframe tbody tr th:only-of-type {\n",
       "        vertical-align: middle;\n",
       "    }\n",
       "\n",
       "    .dataframe tbody tr th {\n",
       "        vertical-align: top;\n",
       "    }\n",
       "\n",
       "    .dataframe thead th {\n",
       "        text-align: right;\n",
       "    }\n",
       "</style>\n",
       "<table border=\"1\" class=\"dataframe\">\n",
       "  <thead>\n",
       "    <tr style=\"text-align: right;\">\n",
       "      <th></th>\n",
       "      <th>COLONIA</th>\n",
       "      <th>Geo Point</th>\n",
       "      <th>ALCALDIA</th>\n",
       "    </tr>\n",
       "  </thead>\n",
       "  <tbody>\n",
       "    <tr>\n",
       "      <th>0</th>\n",
       "      <td>LOMAS DE CHAPULTEPEC</td>\n",
       "      <td>19.4228411174,-99.2157935754</td>\n",
       "      <td>MIGUEL HIDALGO</td>\n",
       "    </tr>\n",
       "    <tr>\n",
       "      <th>1</th>\n",
       "      <td>LOMAS DE REFORMA (LOMAS DE CHAPULTEPEC)</td>\n",
       "      <td>19.4106158914,-99.2262487268</td>\n",
       "      <td>MIGUEL HIDALGO</td>\n",
       "    </tr>\n",
       "    <tr>\n",
       "      <th>2</th>\n",
       "      <td>DEL BOSQUE (POLANCO)</td>\n",
       "      <td>19.4342189235,-99.2094037513</td>\n",
       "      <td>MIGUEL HIDALGO</td>\n",
       "    </tr>\n",
       "    <tr>\n",
       "      <th>3</th>\n",
       "      <td>PEDREGAL DE SANTA URSULA I</td>\n",
       "      <td>19.314862237,-99.1477954505</td>\n",
       "      <td>COYOACAN</td>\n",
       "    </tr>\n",
       "    <tr>\n",
       "      <th>4</th>\n",
       "      <td>AJUSCO I</td>\n",
       "      <td>19.324571116,-99.1561602234</td>\n",
       "      <td>COYOACAN</td>\n",
       "    </tr>\n",
       "  </tbody>\n",
       "</table>\n",
       "</div>"
      ],
      "text/plain": [
       "                                   COLONIA                     Geo Point  \\\n",
       "0                     LOMAS DE CHAPULTEPEC  19.4228411174,-99.2157935754   \n",
       "1  LOMAS DE REFORMA (LOMAS DE CHAPULTEPEC)  19.4106158914,-99.2262487268   \n",
       "2                     DEL BOSQUE (POLANCO)  19.4342189235,-99.2094037513   \n",
       "3               PEDREGAL DE SANTA URSULA I   19.314862237,-99.1477954505   \n",
       "4                                 AJUSCO I   19.324571116,-99.1561602234   \n",
       "\n",
       "         ALCALDIA  \n",
       "0  MIGUEL HIDALGO  \n",
       "1  MIGUEL HIDALGO  \n",
       "2  MIGUEL HIDALGO  \n",
       "3        COYOACAN  \n",
       "4        COYOACAN  "
      ]
     },
     "execution_count": 3,
     "metadata": {},
     "output_type": "execute_result"
    }
   ],
   "source": [
    "df = pd.read_csv(\"mex_neigh.csv\")\n",
    "df.head()"
   ]
  },
  {
   "cell_type": "code",
   "execution_count": null,
   "metadata": {},
   "outputs": [],
   "source": []
  }
 ],
 "metadata": {
  "kernelspec": {
   "display_name": "Python 3",
   "language": "python",
   "name": "python3"
  },
  "language_info": {
   "codemirror_mode": {
    "name": "ipython",
    "version": 3
   },
   "file_extension": ".py",
   "mimetype": "text/x-python",
   "name": "python",
   "nbconvert_exporter": "python",
   "pygments_lexer": "ipython3",
   "version": "3.7.6"
  }
 },
 "nbformat": 4,
 "nbformat_minor": 4
}
